{
 "cells": [
  {
   "attachments": {},
   "cell_type": "markdown",
   "metadata": {},
   "source": [
    "# Day 4: Applications of persistent homology\n",
    "\n",
    "Today, we will explore some simple applications of persistent homology"
   ]
  },
  {
   "attachments": {},
   "cell_type": "markdown",
   "metadata": {},
   "source": [
    "## Computing distance between persistence diagrams\n",
    "\n",
    "First, lets compute the bottleneck and Wasserstein distance between persistence diagrams. Use Gudhi to write two functions - one for computing bottleneck distance and another for computing Wasserstein distance. "
   ]
  },
  {
   "cell_type": "code",
   "execution_count": 15,
   "metadata": {},
   "outputs": [
    {
     "name": "stdout",
     "output_type": "stream",
     "text": [
      "Collecting POT\n",
      "  Downloading https://files.pythonhosted.org/packages/82/e6/2298e7879dda25bd676ea9870fecbe52be82c92f9f441cc4a776608f8413/POT-0.9.0-cp37-cp37m-win_amd64.whl (228kB)\n",
      "Requirement already satisfied: scipy>=1.0 in c:\\users\\will\\anaconda3\\lib\\site-packages (from POT) (1.3.1)\n",
      "Requirement already satisfied: numpy>=1.16 in c:\\users\\will\\anaconda3\\lib\\site-packages (from POT) (1.16.5)\n",
      "Installing collected packages: POT\n",
      "Successfully installed POT-0.9.0\n"
     ]
    }
   ],
   "source": [
    "#!pip install POT # Provides the optimal transport module ot"
   ]
  },
  {
   "cell_type": "code",
   "execution_count": 18,
   "metadata": {},
   "outputs": [],
   "source": [
    "# imports\n",
    "import numpy as np\n",
    "import gudhi\n",
    "import ot\n",
    "import tda"
   ]
  },
  {
   "cell_type": "code",
   "execution_count": 6,
   "metadata": {},
   "outputs": [],
   "source": [
    "def compute_bottleneck(dgm1, dgm2):\n",
    "    ''' Computes the bottleneck distance between two persistence diagrams\n",
    "\n",
    "    Parameters:\n",
    "        dgm1, dgm2: (N, 2) numpy array representing persistence points\n",
    "\n",
    "    Returns:\n",
    "        bottleneck distance \n",
    "\n",
    "    '''\n",
    "    return gudhi.bottleneck_distance(dgm1,dgm2)\n",
    "    "
   ]
  },
  {
   "cell_type": "code",
   "execution_count": 7,
   "metadata": {},
   "outputs": [],
   "source": [
    "def compute_wasserstein(dgm1, dgm2):\n",
    "    ''' Computes the Wasserstein distance between two persistence diagrams\n",
    "\n",
    "    Parameters:\n",
    "        dgm1, dgm2: (N, 2) numpy array representing persistence points\n",
    "\n",
    "    Returns:\n",
    "        Wasserstein distance \n",
    "\n",
    "    '''\n",
    "    return gudhi.wasserstein.wasserstein_distance(dgm1,dgm2)\n",
    "    "
   ]
  },
  {
   "cell_type": "code",
   "execution_count": 22,
   "metadata": {},
   "outputs": [
    {
     "data": {
      "image/png": "[encoded data removed]",
      "text/plain": [
       "<Figure size 432x288 with 1 Axes>"
      ]
     },
     "metadata": {
      "needs_background": "light"
     },
     "output_type": "display_data"
    },
    {
     "data": {
      "image/png": "[encoded data removed]",
      "text/plain": [
       "<Figure size 432x288 with 1 Axes>"
      ]
     },
     "metadata": {
      "needs_background": "light"
     },
     "output_type": "display_data"
    }
   ],
   "source": [
    "# TODO: try computing bottleneck and Wasserstein distance between a couple of persistence diagrams. \n",
    "\n",
    "dgm_annulus = tda.make_persist_points('/data/point-clouds/2D/annulus.npy')\n",
    "dgm_triangles = tda.make_persist_points('/data/point-clouds/2D/triangles.npy')\n",
    "\n",
    "def remove_inf_points(dgm):\n",
    "    new_dgm = []\n",
    "    for p in dgm:\n",
    "        if p[1][1] != np.inf:\n",
    "            new_dgm.append(p[1])\n",
    "    return new_dgm\n",
    "\n",
    "dgm1 = remove_inf_points(dgm_annulus)\n",
    "dgm2 = remove_inf_points(dgm_triangles)"
   ]
  },
  {
   "cell_type": "code",
   "execution_count": 23,
   "metadata": {},
   "outputs": [
    {
     "name": "stdout",
     "output_type": "stream",
     "text": [
      "0.37255826887598353\n"
     ]
    }
   ],
   "source": [
    "dist = compute_bottleneck(dgm1,dgm2)\n",
    "print(dist)\n",
    "\n"
   ]
  },
  {
   "cell_type": "code",
   "execution_count": 32,
   "metadata": {},
   "outputs": [],
   "source": [
    "def load_and_clean_data(locations):\n",
    "    dgms = []\n",
    "    for loc in locations:\n",
    "        dgms.append(tda.make_persist_points(loc))    \n",
    "\n",
    "    def remove_inf_points(dgm):\n",
    "        new_dgm = []\n",
    "        for p in dgm:\n",
    "            if p[1][1] != np.inf:\n",
    "                new_dgm.append(p[1])\n",
    "        return new_dgm\n",
    "\n",
    "    clean_dgms = []\n",
    "    for dgm in dgms:\n",
    "        clean_dgms.append(remove_inf_points(dgm))\n",
    "\n",
    "    if len(clean_dgms)>1:\n",
    "        return clean_dgms\n",
    "    else:\n",
    "        return clean_dgms[0]"
   ]
  },
  {
   "cell_type": "code",
   "execution_count": 33,
   "metadata": {},
   "outputs": [
    {
     "name": "stdout",
     "output_type": "stream",
     "text": [
      "d12:0.37255826887598353, d23:0.13551598371751328, d13:0.2884847523138083\n"
     ]
    },
    {
     "data": {
      "image/png": "[encoded data removed]",
      "text/plain": [
       "<Figure size 432x288 with 1 Axes>"
      ]
     },
     "metadata": {
      "needs_background": "light"
     },
     "output_type": "display_data"
    }
   ],
   "source": [
    "\n",
    "dgm3 = load_and_clean_data(['/data/point-clouds/2D/two-circles.npy'])\n",
    "\n",
    "d12 = compute_bottleneck(dgm1,dgm2)\n",
    "d23 = compute_bottleneck(dgm2,dgm3)\n",
    "d13 = compute_bottleneck(dgm1,dgm3)\n",
    "\n",
    "print(f\"d12:{d12}, d23:{d23}, d13:{d13}\")"
   ]
  },
  {
   "attachments": {},
   "cell_type": "markdown",
   "metadata": {},
   "source": [
    "Let $\\pi: \\mathbb{R}^2 \\to \\mathbb{R}^2$ be the projection of any point onto the diagonal. Then, given two persistence diagrams, $P$ and $Q$:\n",
    "\n",
    "(1) show that the Wasserstein distance between $P \\cup \\pi(Q)$ and $Q \\cup \\pi(P)$ is the same the Wasserstein distance between $P$ and $Q$. \n",
    "\n",
    "(2) Use [Python OT](https://pythonot.github.io/index.html) to implement this alternate Wasserstein distance computation between $P$ and $Q$."
   ]
  },
  {
   "cell_type": "code",
   "execution_count": null,
   "metadata": {},
   "outputs": [],
   "source": [
    "def projection_to_diagonal(P):\n",
    "    ''' Computes projection of a point set in \\R^2 to the diagonal \n",
    "\n",
    "    Parameters:\n",
    "        P: point set in \\R^2 formatted as (N, 2) np.array \n",
    "\n",
    "    Returns:\n",
    "        (N, 2) np.array of points on diagonal\n",
    "\n",
    "    '''\n",
    "    raise NotImplementedError('Please implement')"
   ]
  },
  {
   "cell_type": "code",
   "execution_count": null,
   "metadata": {},
   "outputs": [],
   "source": [
    "def compute_wasserstein_alternate(dgm1, dgm2):\n",
    "    ''' Computes the Wasserstein distance between two persistence diagrams\n",
    "\n",
    "    Parameters:\n",
    "        dgm1, dgm2: (N, 2) numpy array representing persistence points\n",
    "\n",
    "    Returns:\n",
    "        Wasserstein distance \n",
    "\n",
    "    '''\n",
    "    raise NotImplementedError('Please implement')"
   ]
  },
  {
   "attachments": {},
   "cell_type": "markdown",
   "metadata": {},
   "source": [
    "## Point cloud classification using persistence diagrams \n",
    "\n",
    "Now, let's try doing some point cloud classification using persistence diagrams. We can do this in three steps: \n",
    "(1) we will compute persistence diagrams for our point cloud dataset. \n",
    "(2) we will compute the bottleneck/Wasserstein distance between each pair of persistence diagrams.   \n",
    "(3) we will use the sklearn k-nearest neighbor classifier to do point cloud classification. \n",
    "    \n",
    "We will be working with the ModelNet40 point cloud dataset. The training point clouds/labelsare in the `day3/train` folder and the testing point clouds/labels are in the `day3/test` folder. Additionally, I've written the classifier already for you so all you need to do is step 1 and 2 and input the computed distance matrices in the correct places. "
   ]
  },
  {
   "cell_type": "code",
   "execution_count": 1,
   "metadata": {},
   "outputs": [],
   "source": [
    "from sklearn.neighbors import KNeighborsClassifier\n",
    "from sklearn.metrics import accuracy_score\n",
    "\n",
    "k = 3\n",
    "# TODO: compute X_train, should be of shape (N_train, N_train)\n",
    "X_train = None\n",
    "# TODO: compute Y_train, should be shape (N_train, )\n",
    "Y_train = None\n",
    "\n",
    "# TODO: compute X_test, should be of shape (N_test, N_train)\n",
    "X_test = None\n",
    "# TODO: compute Y_test, should be shape (N_test, )\n",
    "Y_test = None\n",
    "\n",
    "neigh = KNeighborsClassifier(n_neighbors=k, metric='precomputed')\n",
    "\n",
    "neigh.fit(X_train, Y_train)\n",
    "\n",
    "predictions = neigh.predict(X_test)\n",
    "\n",
    "print(\"Classification accuracy:\", accuracy_score(Y_test, predictions))"
   ]
  }
 ],
 "metadata": {
  "kernelspec": {
   "display_name": "msri",
   "language": "python",
   "name": "python3"
  },
  "language_info": {
   "codemirror_mode": {
    "name": "ipython",
    "version": 3
   },
   "file_extension": ".py",
   "mimetype": "text/x-python",
   "name": "python",
   "nbconvert_exporter": "python",
   "pygments_lexer": "ipython3",
   "version": "3.7.4"
  },
  "orig_nbformat": 4,
  "vscode": {
   "interpreter": {
    "hash": "d53e343ab014b81a4b593937664e6856782a01e1493065db0a4fc92ef9a58926"
   }
  }
 },
 "nbformat": 4,
 "nbformat_minor": 2
}
